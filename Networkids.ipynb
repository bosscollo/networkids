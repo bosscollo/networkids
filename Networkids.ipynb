{
  "cells": [
    {
      "cell_type": "code",
      "execution_count": null,
      "metadata": {
        "id": "ZyLUvpdO8zRa"
      },
      "outputs": [],
      "source": [
        "from google.colab import drive\n",
        "drive.mount('/content/drive')"
      ]
    },
    {
      "cell_type": "code",
      "execution_count": null,
      "metadata": {
        "id": "xewWNv61CdG7"
      },
      "outputs": [],
      "source": [
        "!kaggle datasets list -s cicids"
      ]
    },
    {
      "cell_type": "code",
      "execution_count": null,
      "metadata": {
        "id": "k4gl0pMSCctj"
      },
      "outputs": [],
      "source": [
        "!kaggle datasets download -d ericanacletoribeiro/cicids2017-cleaned-and-preprocessed\n",
        "\n",
        "\n"
      ]
    },
    {
      "cell_type": "code",
      "execution_count": null,
      "metadata": {
        "id": "QD0x-FJCDn7J"
      },
      "outputs": [],
      "source": [
        "!unzip cicids2017-cleaned-and-preprocessed.zip"
      ]
    },
    {
      "cell_type": "code",
      "execution_count": null,
      "metadata": {
        "collapsed": true,
        "id": "pgqbic6JDwvt"
      },
      "outputs": [],
      "source": [
        "import pandas as pd\n",
        "\n",
        "df = pd.read_csv(\"cicids2017_cleaned.csv\")\n",
        "\n",
        "df.head()"
      ]
    },
    {
      "cell_type": "code",
      "execution_count": null,
      "metadata": {
        "id": "6ARYlg5WF-1W"
      },
      "outputs": [],
      "source": [
        "print(\"Rows and Columns:\",df.shape)"
      ]
    },
    {
      "cell_type": "code",
      "execution_count": null,
      "metadata": {
        "id": "aAXQO0DVGTo7"
      },
      "outputs": [],
      "source": [
        "print(\"Column Names:\\n\",df.columns)"
      ]
    },
    {
      "cell_type": "code",
      "execution_count": null,
      "metadata": {
        "id": "Jvu9owOKGpET"
      },
      "outputs": [],
      "source": [
        "df.describe()\n"
      ]
    },
    {
      "cell_type": "code",
      "execution_count": null,
      "metadata": {
        "id": "S2tpJzYnIOji"
      },
      "outputs": [],
      "source": [
        "import numpy as np\n",
        "\n",
        "df_cleaned = df.copy()\n",
        "\n",
        "numeric_cols = df_cleaned.select_dtypes(include=[np.number]).columns\n",
        "\n",
        "df_cleaned[numeric_cols] = df_cleaned[numeric_cols].apply(lambda x: (x - x.min()) / (x.max() - x.min()))\n",
        "print(\"Any negatives left?\\n\", (df_cleaned[numeric_cols] < 0).sum().sum())"
      ]
    },
    {
      "cell_type": "code",
      "execution_count": null,
      "metadata": {
        "id": "qcKTCJtvKXWe"
      },
      "outputs": [],
      "source": [
        "missing_values = df_cleaned.isnull().sum()\n",
        "print(\"Missing Values:\\n\", missing_values)\n",
        "\n",
        "missing_values = missing_values[missing_values > 0]\n",
        "print(\"\\nColumns with Missing Values:\\n\", missing_values)"
      ]
    },
    {
      "cell_type": "code",
      "execution_count": null,
      "metadata": {
        "id": "ZdBmKeBtLAO9"
      },
      "outputs": [],
      "source": [
        "from sklearn.preprocessing import LabelEncoder\n",
        "\n",
        "#create a labelencoder object to convert strings to numbers\n",
        "encoder = LabelEncoder()\n",
        "\n",
        "#encode the attack type column\n",
        "df_cleaned['Attack type'] = encoder.fit_transform(df_cleaned['Attack Type'])\n",
        "\n",
        "#see what the encoder did\n",
        "print(\"Label mapping:\", dict(zip(encoder.classes_, encoder.transform(encoder.classes_))))"
      ]
    },
    {
      "cell_type": "code",
      "execution_count": null,
      "metadata": {
        "id": "91WUK25NMf16"
      },
      "outputs": [],
      "source": [
        "from sklearn.model_selection import train_test_split\n",
        "\n",
        "#split the data into training and testing sets\n",
        "\n",
        "x = df_cleaned.drop(['Attack Type', 'Attack type'], axis=1)\n",
        "y = df_cleaned['Attack type']\n",
        "\n",
        "X_train, X_test, y_train, y_test = train_test_split(x, y, test_size=0.2, random_state=42)# This will print the number of rows and columns in the training and testing sets\n",
        "\n",
        "print(\"Training Features (X_train):\", X_train.shape)  # (rows, columns)\n",
        "print(\"Testing Features (X_test):\", X_test.shape)\n",
        "\n",
        "print(\"Training Labels (y_train):\", y_train.shape)\n",
        "print(\"Testing Labels (y_test):\", y_test.shape)\n"
      ]
    },
    {
      "cell_type": "code",
      "execution_count": null,
      "metadata": {
        "id": "u7ZYpzaBOPRH"
      },
      "outputs": [],
      "source": [
        "from sklearn.ensemble import RandomForestClassifier\n",
        "\n",
        "model = RandomForestClassifier(n_estimators=100, random_state=42)\n",
        "model.fit(X_train, y_train)\n",
        "\n",
        "predictions = model.predict(X_test)\n",
        "\n",
        "from sklearn.metrics import accuracy_score\n",
        "accuracy = accuracy_score(y_test, predictions)\n",
        "\n",
        "print(\"Accuracy:\", accuracy)"
      ]
    },
    {
      "cell_type": "code",
      "execution_count": null,
      "metadata": {
        "id": "_znCKNHnVTo7"
      },
      "outputs": [],
      "source": [
        "from google.colab import drive\n",
        "drive.mount('/content/drive')\n",
        "\n"
      ]
    },
    {
      "cell_type": "code",
      "execution_count": null,
      "metadata": {
        "id": "r_0-qdXkWzA1"
      },
      "outputs": [],
      "source": [
        "import pandas as pd\n",
        "\n",
        "# Load the cleaned dataset\n",
        "df = pd.read_csv('/content/drive/MyDrive/df_cleaned.csv')\n",
        "\n",
        "# Check the first few rows\n",
        "df.head()\n"
      ]
    },
    {
      "cell_type": "code",
      "execution_count": null,
      "metadata": {
        "id": "C5CPJrDEX1cv"
      },
      "outputs": [],
      "source": [
        "#  Sample 2000 rows from each available attack type\n",
        "df_sampled = df.groupby('Attack Type').apply(lambda x: x.sample(n=2000, random_state=42)).reset_index(drop=True)\n",
        "\n",
        "#  Check shape (should be 5 classes × 2000 = 10,000 rows)\n",
        "print(\"Sampled data shape:\", df_sampled.shape)"
      ]
    },
    {
      "cell_type": "code",
      "execution_count": null,
      "metadata": {
        "id": "lRLPrydEYXw7"
      },
      "outputs": [],
      "source": [
        "from sklearn.preprocessing import LabelEncoder\n",
        "\n",
        "# Create a label encoder\n",
        "label_encoder = LabelEncoder()\n",
        "\n",
        "# Transform \"Attack Type\" text labels into numeric values\n",
        "df_sampled['Label'] = label_encoder.fit_transform(df_sampled['Attack Type'])\n",
        "\n",
        "# Let's see the mapping\n",
        "label_mapping = dict(zip(label_encoder.classes_, label_encoder.transform(label_encoder.classes_)))\n",
        "print(\"Label mapping:\", label_mapping)\n"
      ]
    },
    {
      "cell_type": "code",
      "execution_count": null,
      "metadata": {
        "id": "OHJ0rScrYc5j"
      },
      "outputs": [],
      "source": [
        "#  Drop the original text label (we already converted it)\n",
        "X = df_sampled.drop(['Attack Type', 'Label'], axis=1)\n",
        "y = df_sampled['Label']\n"
      ]
    },
    {
      "cell_type": "code",
      "execution_count": null,
      "metadata": {
        "id": "OCQuFPv1YmWx"
      },
      "outputs": [],
      "source": [
        "from sklearn.model_selection import train_test_split\n",
        "\n",
        "# 80% for training, 20% for testing\n",
        "X_train, X_test, y_train, y_test = train_test_split(X, y, test_size=0.2, random_state=42)\n",
        "\n",
        "print(\"Training set size:\", X_train.shape)\n",
        "print(\"Test set size:\", X_test.shape)\n"
      ]
    },
    {
      "cell_type": "code",
      "execution_count": null,
      "metadata": {
        "id": "b9yxQwv1Y11o"
      },
      "outputs": [],
      "source": [
        "from sklearn.ensemble import RandomForestClassifier\n",
        "from sklearn.metrics import classification_report, confusion_matrix\n",
        "\n",
        "# to Initialize the model\n",
        "model = RandomForestClassifier(n_estimators=100, random_state=42)\n",
        "\n",
        "#  Train the model\n",
        "model.fit(X_train, y_train)\n",
        "\n",
        "# Make predictions\n",
        "predictions = model.predict(X_test)\n",
        "\n",
        "# Show evaluation results\n",
        "print(\"Classification Report:\\n\", classification_report(y_test, predictions))\n",
        "print(\"Confusion Matrix:\\n\", confusion_matrix(y_test, predictions))"
      ]
    },
    {
      "cell_type": "code",
      "execution_count": null,
      "metadata": {
        "id": "q0z-JUI5ZE7t"
      },
      "outputs": [],
      "source": [
        "import joblib\n",
        "\n",
        "# Save the model\n",
        "joblib.dump(model, '/content/drive/MyDrive/random_forest_nids_model.pkl')\n",
        "\n"
      ]
    },
    {
      "cell_type": "code",
      "execution_count": null,
      "metadata": {
        "id": "2McQtBDbZJL5"
      },
      "outputs": [],
      "source": [
        "# Sample prediction\n",
        "sample = X_test.iloc[0].values.reshape(1, -1)\n",
        "predicted_class = model.predict(sample)[0]\n",
        "\n",
        "# Decode label\n",
        "label_map = {0: 'Bots', 1: 'Brute Force', 2: 'DDoS', 3: 'DoS', 4: 'Normal Traffic', 5: 'Port Scanning', 6: 'Web Attacks'}\n",
        "print(\"Predicted:\", label_map[predicted_class])\n"
      ]
    },
    {
      "cell_type": "code",
      "execution_count": null,
      "metadata": {
        "id": "Wvi-1A8RZgH1"
      },
      "outputs": [],
      "source": [
        "sample = X_test.iloc[[0]]  # Double brackets keep it as a DataFrame\n",
        "predicted_class = model.predict(sample)[0]\n",
        "\n",
        "label_map = {0: 'Bots', 1: 'Brute Force', 2: 'DDoS', 3: 'DoS', 4: 'Normal Traffic', 5: 'Port Scanning', 6: 'Web Attacks'}\n",
        "print(\"Predicted:\", label_map[predicted_class])\n"
      ]
    },
    {
      "cell_type": "code",
      "execution_count": null,
      "metadata": {
        "id": "3KQS9vscaCcN"
      },
      "outputs": [],
      "source": [
        "import joblib\n",
        "\n",
        "# Save the model as a file\n",
        "joblib.dump(model, '/content/drive/MyDrive/nids_model.pkl')\n"
      ]
    },
    {
      "cell_type": "code",
      "execution_count": null,
      "metadata": {
        "id": "P_BhucoiaVM2"
      },
      "outputs": [],
      "source": [
        "joblib.dump(label_encoder, 'label_encoder.pkl')\n"
      ]
    },
    {
      "cell_type": "code",
      "execution_count": null,
      "metadata": {
        "id": "8B951-eGab4P"
      },
      "outputs": [],
      "source": [
        "import pandas as pd\n",
        "from sklearn.preprocessing import LabelEncoder\n",
        "import joblib\n",
        "\n",
        "# Load your cleaned dataset\n",
        "df = pd.read_csv('/content/drive/MyDrive/cleaned.csv')\n",
        "\n",
        "# Recreate the encoder\n",
        "encoder = LabelEncoder()\n",
        "encoder.fit(df['Attack Type'])\n",
        "\n",
        "# Save it\n",
        "joblib.dump(encoder, '/content/drive/MyDrive/label_encoder.pkl')\n"
      ]
    },
    {
      "cell_type": "code",
      "source": [
        "print(df_cleaned.columns.tolist())\n",
        "print(df_cleaned.shape[1])  # Number of features\n"
      ],
      "metadata": {
        "id": "dw3zq3RwL09q"
      },
      "execution_count": null,
      "outputs": []
    }
  ],
  "metadata": {
    "colab": {
      "provenance": [],
      "authorship_tag": "ABX9TyNF2mgHU831NO6ZPyBEajzp"
    },
    "kernelspec": {
      "display_name": "Python 3",
      "name": "python3"
    },
    "language_info": {
      "name": "python"
    }
  },
  "nbformat": 4,
  "nbformat_minor": 0
}